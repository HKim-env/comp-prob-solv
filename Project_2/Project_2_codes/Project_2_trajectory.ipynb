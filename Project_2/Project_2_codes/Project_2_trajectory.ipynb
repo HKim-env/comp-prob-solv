{
 "cells": [
  {
   "cell_type": "code",
   "execution_count": 2,
   "metadata": {},
   "outputs": [
    {
     "name": "stdout",
     "output_type": "stream",
     "text": [
      "Trajectory shape: (1000, 2, 20, 3)\n"
     ]
    },
    {
     "data": {
      "text/plain": [
       "<Popen: returncode: None args: ['C:\\\\Users\\\\khh38\\\\AppData\\\\Local\\\\Microsoft...>"
      ]
     },
     "execution_count": 2,
     "metadata": {},
     "output_type": "execute_result"
    }
   ],
   "source": [
    "import numpy as np\n",
    "from ase import Atoms\n",
    "from ase.visualize import view\n",
    "\n",
    "# Load the saved trajectory file\n",
    "trajectory_file_path = r\"C:\\Users\\khh38\\Desktop\\PhD\\Class\\comp-prob-solv\\Project_2\\trajectories_output\\trajectories_minimized_Temp_0.75.npy\"\n",
    "trajectories = np.load(trajectory_file_path, allow_pickle=True)\n",
    "\n",
    "# Inspect trajectory structure\n",
    "print(f\"Trajectory shape: {trajectories.shape}\")\n",
    "\n",
    "# Simulation parameters\n",
    "box_size = 100.0  # Ensure this matches the box size used in the simulation\n",
    "n_frames = trajectories.shape[0]  # Number of frames\n",
    "n_particles = trajectories.shape[2]  # Number of particles\n",
    "\n",
    "# Convert the trajectory to ASE Atoms objects\n",
    "atoms_list = []\n",
    "for frame in range(n_frames):\n",
    "    positions = trajectories[frame][0]  # Extract positions from the first sub-array of each frame\n",
    "    if positions.shape != (n_particles, 3):\n",
    "        raise ValueError(f\"Positions for frame {frame} have incorrect shape: {positions.shape}\")\n",
    "    \n",
    "    # Create an Atoms object for the current frame\n",
    "    atoms = Atoms(\n",
    "        positions=positions,\n",
    "        symbols=['O'] * n_particles,\n",
    "        cell=[box_size, box_size, box_size],\n",
    "        pbc=True\n",
    "    )\n",
    "    atoms_list.append(atoms)\n",
    "\n",
    "# View the trajectory using ASE\n",
    "view(atoms_list)\n"
   ]
  },
  {
   "cell_type": "code",
   "execution_count": null,
   "metadata": {},
   "outputs": [],
   "source": []
  }
 ],
 "metadata": {
  "kernelspec": {
   "display_name": "Python 3",
   "language": "python",
   "name": "python3"
  },
  "language_info": {
   "codemirror_mode": {
    "name": "ipython",
    "version": 3
   },
   "file_extension": ".py",
   "mimetype": "text/x-python",
   "name": "python",
   "nbconvert_exporter": "python",
   "pygments_lexer": "ipython3",
   "version": "3.12.8"
  }
 },
 "nbformat": 4,
 "nbformat_minor": 2
}
