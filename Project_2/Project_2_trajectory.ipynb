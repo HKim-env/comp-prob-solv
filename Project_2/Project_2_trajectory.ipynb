{
 "cells": [
  {
   "cell_type": "code",
   "execution_count": 23,
   "metadata": {},
   "outputs": [
    {
     "data": {
      "text/plain": [
       "<Popen: returncode: None args: ['C:\\\\Users\\\\khh38\\\\AppData\\\\Local\\\\Microsoft...>"
      ]
     },
     "execution_count": 23,
     "metadata": {},
     "output_type": "execute_result"
    }
   ],
   "source": [
    "import numpy as np\n",
    "from ase import Atoms\n",
    "from ase.visualize import view\n",
    "\n",
    "# Load the saved trajectory file\n",
    "trajectory_file_path = r\"C:\\Users\\khh38\\Desktop\\PhD\\Class\\comp-prob-solv\\Project_2\\trajectories_output\\trajectories_long_length_0.90.npy\"\n",
    "trajectories = np.load(trajectory_file_path)  # Load the trajectories as a NumPy array\n",
    "\n",
    "# Simulation parameters\n",
    "box_size = 100.0  # Ensure this matches the box size used in the simulation\n",
    "n_particles = trajectories.shape[1]  # Number of particles\n",
    "\n",
    "# Convert the trajectory to ASE Atoms objects\n",
    "atoms_list = []\n",
    "for frame in range(trajectories.shape[0]):\n",
    "    positions = trajectories[frame]\n",
    "    # Create an Atoms object for the current frame\n",
    "    atoms = Atoms(positions=positions, symbols=['O'] * n_particles, cell=[box_size, box_size, box_size], pbc=True)\n",
    "    atoms_list.append(atoms)\n",
    "\n",
    "# View the trajectory using ASE\n",
    "view(atoms_list)  # Open GUI for visualization\n",
    "\n",
    "\n"
   ]
  },
  {
   "cell_type": "code",
   "execution_count": null,
   "metadata": {},
   "outputs": [],
   "source": []
  }
 ],
 "metadata": {
  "kernelspec": {
   "display_name": "Python 3",
   "language": "python",
   "name": "python3"
  },
  "language_info": {
   "codemirror_mode": {
    "name": "ipython",
    "version": 3
   },
   "file_extension": ".py",
   "mimetype": "text/x-python",
   "name": "python",
   "nbconvert_exporter": "python",
   "pygments_lexer": "ipython3",
   "version": "3.12.7"
  }
 },
 "nbformat": 4,
 "nbformat_minor": 2
}
